{
  "nbformat": 4,
  "nbformat_minor": 0,
  "metadata": {
    "colab": {
      "name": "stats_simulations.ipynb",
      "provenance": [],
      "collapsed_sections": []
    },
    "kernelspec": {
      "name": "python3",
      "display_name": "Python 3"
    },
    "language_info": {
      "name": "python"
    }
  },
  "cells": [
    {
      "cell_type": "code",
      "execution_count": 36,
      "metadata": {
        "id": "e0hELFTuoyXH"
      },
      "outputs": [],
      "source": [
        "from numpy.random import seed\n",
        "from numpy.random import normal\n",
        "\n",
        "#make this example reproducible\n",
        "seed(1)\n",
        "\n",
        "import matplotlib.pyplot as plt\n",
        "\n",
        "from scipy.stats import ttest_ind"
      ]
    },
    {
      "cell_type": "code",
      "source": [
        "def generate_data(sample_size = 200, mean = 250,uplift = 0.5):\n",
        "  \"\"\"\n",
        "  uplift - in percantages\n",
        "  \"\"\"\n",
        "  a_sample = normal(loc=mean, scale=10, size=sample_size)\n",
        "  b_sample = normal(loc=mean + (mean/100*uplift), scale=10, size=sample_size)\n",
        "  return a_sample, b_sample"
      ],
      "metadata": {
        "id": "u1NMRB9hsDGR"
      },
      "execution_count": 159,
      "outputs": []
    },
    {
      "cell_type": "code",
      "source": [
        "def get_ttest_res(a_sample, b_sample, alpha = 0.05):\n",
        "  _, p_val = ttest_ind(a_sample, b_sample)\n",
        "  return round(p_val, 10)"
      ],
      "metadata": {
        "id": "P7WDCUdFs8qX"
      },
      "execution_count": 160,
      "outputs": []
    },
    {
      "cell_type": "code",
      "source": [
        "def generate_n_ab(n = 1000, sample_size = 200, uplift = 0.5):\n",
        "  p_value_list = []\n",
        "  sign = 0\n",
        "  for i in range(1000):\n",
        "    sample_size\n",
        "    a_sample, b_sample = generate_data(sample_size = sample_size, uplift = uplift)\n",
        "    p_value_list.append(get_ttest_res(a_sample, b_sample))\n",
        "    if get_ttest_res(a_sample, b_sample) < 0.05:\n",
        "      sign +=1\n",
        "  power = sign/len(p_value_list)\n",
        "\n",
        "  plt.hist(p_value_list, bins = 200)\n",
        "  plt.title(f\"\"\"P-value distr \n",
        "  for {sample_size} sample_size and uplift = {uplift}\"\"\")\n",
        "  plt.show()\n",
        "  print('power = ',power)\n"
      ],
      "metadata": {
        "id": "DR2kdbzR3mip"
      },
      "execution_count": 198,
      "outputs": []
    },
    {
      "cell_type": "code",
      "source": [
        "#try to calculate power with 200 sammple size\n",
        "generate_n_ab(sample_size = 200, uplift = 1)"
      ],
      "metadata": {
        "colab": {
          "base_uri": "https://localhost:8080/",
          "height": 313
        },
        "id": "G-ZMR__f3yOP",
        "outputId": "9c8a55fa-f086-44b5-998d-98a4144c799e"
      },
      "execution_count": 199,
      "outputs": [
        {
          "output_type": "display_data",
          "data": {
            "text/plain": [
              "<Figure size 432x288 with 1 Axes>"
            ],
            "image/png": "[encoded data removed]"
          },
          "metadata": {
            "needs_background": "light"
          }
        },
        {
          "output_type": "stream",
          "name": "stdout",
          "text": [
            "power =  0.719\n"
          ]
        }
      ]
    },
    {
      "cell_type": "code",
      "source": [
        "# as we got not enough power then we:\n",
        "# either increase sample_size\n",
        "#try to calculate power with 200 sammple size\n",
        "generate_n_ab(sample_size = 300, uplift = 1)"
      ],
      "metadata": {
        "colab": {
          "base_uri": "https://localhost:8080/",
          "height": 313
        },
        "id": "KrzUjlpL400E",
        "outputId": "0086c089-475b-4951-98d6-3f903473f4cc"
      },
      "execution_count": 200,
      "outputs": [
        {
          "output_type": "display_data",
          "data": {
            "text/plain": [
              "<Figure size 432x288 with 1 Axes>"
            ],
            "image/png": "[encoded data removed]"
          },
          "metadata": {
            "needs_background": "light"
          }
        },
        {
          "output_type": "stream",
          "name": "stdout",
          "text": [
            "power =  0.884\n"
          ]
        }
      ]
    },
    {
      "cell_type": "code",
      "source": [
        "#or increase uplift (MDE)\n",
        "generate_n_ab(sample_size = 200, uplift = 2)"
      ],
      "metadata": {
        "colab": {
          "base_uri": "https://localhost:8080/",
          "height": 313
        },
        "id": "JSVpfUbE4aVC",
        "outputId": "9cf3330b-ef6b-4fca-f4bf-20b0588a71ad"
      },
      "execution_count": 201,
      "outputs": [
        {
          "output_type": "display_data",
          "data": {
            "text/plain": [
              "<Figure size 432x288 with 1 Axes>"
            ],
            "image/png": "[encoded data removed]"
          },
          "metadata": {
            "needs_background": "light"
          }
        },
        {
          "output_type": "stream",
          "name": "stdout",
          "text": [
            "power =  0.998\n"
          ]
        }
      ]
    }
  ]
}